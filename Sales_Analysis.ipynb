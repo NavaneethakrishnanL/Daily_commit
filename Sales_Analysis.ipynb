{
 "cells": [
  {
   "cell_type": "markdown",
   "metadata": {},
   "source": [
    "SELECT DISTINCT p.product_id, p.product_name\n",
    "FROM Product p\n",
    "JOIN Sales s ON p.product_id = s.product_id\n",
    "WHERE s.sale_date BETWEEN '2019-01-01' AND '2019-03-31'\n",
    "  AND p.product_id NOT IN (\n",
    "      SELECT product_id\n",
    "      FROM Sales\n",
    "      WHERE sale_date < '2019-01-01' OR sale_date > '2019-03-31'\n",
    "  );\n"
   ]
  },
  {
   "cell_type": "code",
   "execution_count": null,
   "metadata": {},
   "outputs": [],
   "source": [
    "SELECT DISTINCT p.product_id, p.product_name\n",
    "FROM Product p\n",
    "JOIN Sales s ON p.product_id = s.product_id\n",
    "WHERE s.sale_date BETWEEN '2019-01-01' AND '2019-03-31'\n",
    "  AND p.product_id NOT IN (\n",
    "      SELECT product_id\n",
    "      FROM Sales\n",
    "      WHERE sale_date < '2019-01-01' OR sale_date > '2019-03-31'\n",
    "  );\n"
   ]
  }
 ],
 "metadata": {
  "language_info": {
   "name": "python"
  }
 },
 "nbformat": 4,
 "nbformat_minor": 2
}
