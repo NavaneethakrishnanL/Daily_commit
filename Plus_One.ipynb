{
 "cells": [
  {
   "cell_type": "markdown",
   "metadata": {},
   "source": [
    "You are given a large integer represented as an integer array digits, where each digits[i] is the ith digit of the integer. The digits are ordered from most significant to least significant in left-to-right order. The large integer does not contain any leading 0's.\n",
    "\n",
    "Increment the large integer by one and return the resulting array of digits.\n",
    "\n",
    " \n",
    "\n",
    "Example 1:\n",
    "\n",
    "Input: digits = [1,2,3]\n",
    "Output: [1,2,4]\n",
    "Explanation: The array represents the integer 123.\n",
    "Incrementing by one gives 123 + 1 = 124.\n",
    "Thus, the result should be [1,2,4].\n",
    "Example 2:\n",
    "\n",
    "Input: digits = [4,3,2,1]\n",
    "Output: [4,3,2,2]\n",
    "Explanation: The array represents the integer 4321.\n",
    "Incrementing by one gives 4321 + 1 = 4322.\n",
    "Thus, the result should be [4,3,2,2].\n",
    "Example 3:\n",
    "\n",
    "Input: digits = [9]\n",
    "Output: [1,0]\n",
    "Explanation: The array represents the integer 9.\n",
    "Incrementing by one gives 9 + 1 = 10.\n",
    "Thus, the result should be [1,0].\n",
    " \n",
    "\n",
    "Constraints:\n",
    "\n",
    "1 <= digits.length <= 100"
   ]
  },
  {
   "cell_type": "code",
   "execution_count": null,
   "metadata": {},
   "outputs": [],
   "source": [
    "from typing import List\n",
    "\n",
    "class Solution:\n",
    "    def plusOne(self, digits: List[int]) -> List[int]:\n",
    "        n = len(digits)\n",
    "        \n",
    "        # Start from the last digit and move left\n",
    "        for i in range(n - 1, -1, -1):\n",
    "            if digits[i] < 9:\n",
    "                digits[i] += 1\n",
    "                return digits  # No carry, return result\n",
    "            digits[i] = 0  # Set current digit to 0 and continue\n",
    "        \n",
    "        # If we exit the loop, that means we had all 9s (e.g., [9,9,9])\n",
    "        return [1] + digits  # Add an extra 1 at the beginning\n"
   ]
  }
 ],
 "metadata": {
  "language_info": {
   "name": "python"
  }
 },
 "nbformat": 4,
 "nbformat_minor": 2
}
