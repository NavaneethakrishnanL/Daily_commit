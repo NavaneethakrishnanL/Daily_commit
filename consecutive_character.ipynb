{
 "cells": [
  {
   "cell_type": "markdown",
   "metadata": {},
   "source": [
    "The power of the string is the maximum length of a non-empty substring that contains only one unique character.\n",
    "\n",
    "Given a string s, return the power of s.\n",
    "\n",
    " \n",
    "\n",
    "Example 1:\n",
    "\n",
    "Input: s = \"leetcode\"\n",
    "Output: 2\n",
    "Explanation: The substring \"ee\" is of length 2 with the character 'e' only.\n",
    "Example 2:\n",
    "\n",
    "Input: s = \"abbcccddddeeeeedcba\"\n",
    "Output: 5\n",
    "Explanation: The substring \"eeeee\" is of length 5 with the character 'e' only.\n",
    " \n",
    "\n",
    "Constraints:\n",
    "\n",
    "1 <= s.length <= 500\n",
    "s consists of only lowercase English letters."
   ]
  },
  {
   "cell_type": "code",
   "execution_count": null,
   "metadata": {},
   "outputs": [],
   "source": [
    "class Solution:\n",
    "    def maxPower(self, s: str) -> int:\n",
    "        max_power = 1\n",
    "        current_power = 1\n",
    "\n",
    "        for i in range(1, len(s)):\n",
    "            if s[i] == s[i - 1]:\n",
    "                current_power += 1\n",
    "                max_power = max(max_power, current_power)\n",
    "            else:\n",
    "                current_power = 1\n",
    "\n",
    "        return max_power\n"
   ]
  }
 ],
 "metadata": {
  "language_info": {
   "name": "python"
  }
 },
 "nbformat": 4,
 "nbformat_minor": 2
}
