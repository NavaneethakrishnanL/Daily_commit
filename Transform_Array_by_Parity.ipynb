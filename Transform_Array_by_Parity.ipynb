{
 "cells": [
  {
   "cell_type": "markdown",
   "metadata": {},
   "source": [
    "You are given an integer array nums. Transform nums by performing the following operations in the exact order specified:\n",
    "\n",
    "Replace each even number with 0.\n",
    "Replace each odd numbers with 1.\n",
    "Sort the modified array in non-decreasing order.\n",
    "Return the resulting array after performing these operations.\n",
    "\n",
    " \n",
    "\n",
    "Example 1:\n",
    "\n",
    "Input: nums = [4,3,2,1]\n",
    "\n",
    "Output: [0,0,1,1]\n",
    "\n",
    "Explanation:\n",
    "\n",
    "Replace the even numbers (4 and 2) with 0 and the odd numbers (3 and 1) with 1. Now, nums = [0, 1, 0, 1].\n",
    "After sorting nums in non-descending order, nums = [0, 0, 1, 1].\n",
    "Example 2:\n",
    "\n",
    "Input: nums = [1,5,1,4,2]\n",
    "\n",
    "Output: [0,0,1,1,1]\n",
    "\n",
    "Explanation:\n",
    "\n",
    "Replace the even numbers (4 and 2) with 0 and the odd numbers (1, 5 and 1) with 1. Now, nums = [1, 1, 1, 0, 0].\n",
    "After sorting nums in non-descending order, nums = [0, 0, 1, 1, 1].\n",
    " \n",
    "\n",
    "Constraints:\n",
    "\n",
    "1 <= nums.length <= 100\n",
    "1 <= nums[i] <= 1000"
   ]
  },
  {
   "cell_type": "code",
   "execution_count": null,
   "metadata": {},
   "outputs": [],
   "source": [
    "from typing import List\n",
    "\n",
    "class Solution:\n",
    "    def transformArray(self, nums: List[int]) -> List[int]:\n",
    "        # Step 1: Replace evens with 0 and odds with 1\n",
    "        transformed = [0 if num % 2 == 0 else 1 for num in nums]\n",
    "        \n",
    "        # Step 2: Sort the array\n",
    "        transformed.sort()\n",
    "        \n",
    "        return transformed\n",
    "\n",
    "# Example usage:\n",
    "solution = Solution()\n",
    "print(solution.transformArray([4, 3, 2, 1]))  # Output: [0, 0, 1, 1]\n",
    "print(solution.transformArray([1, 5, 1, 4, 2]))  # Output: [0, 0, 1, 1, 1]\n"
   ]
  }
 ],
 "metadata": {
  "language_info": {
   "name": "python"
  }
 },
 "nbformat": 4,
 "nbformat_minor": 2
}
