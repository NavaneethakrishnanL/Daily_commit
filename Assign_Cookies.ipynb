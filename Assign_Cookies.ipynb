{
 "cells": [
  {
   "cell_type": "markdown",
   "metadata": {},
   "source": [
    "Assume you are an awesome parent and want to give your children some cookies. But, you should give each child at most one cookie.\n",
    "\n",
    "Each child i has a greed factor g[i], which is the minimum size of a cookie that the child will be content with; and each cookie j has a size s[j]. If s[j] >= g[i], we can assign the cookie j to the child i, and the child i will be content. Your goal is to maximize the number of your content children and output the maximum number.\n",
    "\n",
    " \n",
    "\n",
    "Example 1:\n",
    "\n",
    "Input: g = [1,2,3], s = [1,1]\n",
    "Output: 1\n",
    "Explanation: You have 3 children and 2 cookies. The greed factors of 3 children are 1, 2, 3. \n",
    "And even though you have 2 cookies, since their size is both 1, you could only make the child whose greed factor is 1 content.\n",
    "You need to output 1.\n",
    "Example 2:\n",
    "\n",
    "Input: g = [1,2], s = [1,2,3]\n",
    "Output: 2\n",
    "Explanation: You have 2 children and 3 cookies. The greed factors of 2 children are 1, 2. \n",
    "You have 3 cookies and their sizes are big enough to gratify all of the children, \n",
    "You need to output 2.\n",
    " \n",
    "\n",
    "Constraints:\n",
    "\n",
    "1 <= g.length <= 3 * 104\n",
    "0 <= s.length <= 3 * 104\n",
    "1 <= g[i], s[j] <= 231 - 1\n",
    " \n",
    "\n",
    "Note: This question is the same as 2410: Maximum Matching of Players With Trainers."
   ]
  },
  {
   "cell_type": "code",
   "execution_count": null,
   "metadata": {},
   "outputs": [],
   "source": [
    "class Solution:\n",
    "    def findContentChildren(self, g: List[int], s: List[int]) -> int:\n",
    "        g.sort()  # Sort children by greed factor\n",
    "        s.sort()  # Sort cookies by size\n",
    "\n",
    "        i, j = 0, 0  # Pointers for children and cookies\n",
    "\n",
    "        while i < len(g) and j < len(s):\n",
    "            if s[j] >= g[i]:  # If the cookie can satisfy the child\n",
    "                i += 1  # Move to the next child\n",
    "            j += 1  # Move to the next cookie\n",
    "\n",
    "        return i  # Number of satisfied children"
   ]
  }
 ],
 "metadata": {
  "language_info": {
   "name": "python"
  }
 },
 "nbformat": 4,
 "nbformat_minor": 2
}
