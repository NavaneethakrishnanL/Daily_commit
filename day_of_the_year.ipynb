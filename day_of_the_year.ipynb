{
 "cells": [
  {
   "cell_type": "markdown",
   "metadata": {},
   "source": [
    "Given a string date representing a Gregorian calendar date formatted as YYYY-MM-DD, return the day number of the year.\n",
    "\n",
    " \n",
    "\n",
    "Example 1:\n",
    "\n",
    "Input: date = \"2019-01-09\"\n",
    "Output: 9\n",
    "Explanation: Given date is the 9th day of the year in 2019.\n",
    "Example 2:\n",
    "\n",
    "Input: date = \"2019-02-10\"\n",
    "Output: 41\n",
    " \n",
    "\n",
    "Constraints:\n",
    "\n",
    "date.length == 10\n",
    "date[4] == date[7] == '-', and all other date[i]'s are digits\n",
    "date represents a calendar date between Jan 1st, 1900 and Dec 31st, 2019."
   ]
  },
  {
   "cell_type": "code",
   "execution_count": null,
   "metadata": {},
   "outputs": [],
   "source": [
    "class Solution:\n",
    "    def dayOfYear(self, date: str) -> int:\n",
    "        year, month, date = map(int, date.split(\"-\"))\n",
    "        print(year, month, date)\n",
    "\n",
    "        days_in_month=[31,28,31,30,31,30,31,31,30,31,30,31] #non-leap_year\n",
    "\n",
    "        if (year%4==0 and year%100 !=0) or (year%400==0): \n",
    "            days_in_month[1]=29\n",
    "        return sum (days_in_month[:month-1])+date"
   ]
  },
  {
   "cell_type": "code",
   "execution_count": 7,
   "metadata": {},
   "outputs": [
    {
     "name": "stdout",
     "output_type": "stream",
     "text": [
      "2021 3 3\n",
      "62\n",
      "2024 3 3\n",
      "63\n"
     ]
    }
   ],
   "source": [
    "sol=Solution()\n",
    "print(sol.dayOfYear(\"2021-03-03\"))\n",
    "print(sol.dayOfYear(\"2024-03-03\"))"
   ]
  },
  {
   "cell_type": "code",
   "execution_count": null,
   "metadata": {},
   "outputs": [],
   "source": []
  }
 ],
 "metadata": {
  "kernelspec": {
   "display_name": "Python 3",
   "language": "python",
   "name": "python3"
  },
  "language_info": {
   "codemirror_mode": {
    "name": "ipython",
    "version": 3
   },
   "file_extension": ".py",
   "mimetype": "text/x-python",
   "name": "python",
   "nbconvert_exporter": "python",
   "pygments_lexer": "ipython3",
   "version": "3.13.1"
  }
 },
 "nbformat": 4,
 "nbformat_minor": 2
}
