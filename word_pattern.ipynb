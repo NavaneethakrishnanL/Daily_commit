{
 "cells": [
  {
   "cell_type": "markdown",
   "metadata": {},
   "source": [
    "Given a pattern and a string s, find if s follows the same pattern.\n",
    "\n",
    "Here follow means a full match, such that there is a bijection between a letter in pattern and a non-empty word in s. Specifically:\n",
    "\n",
    "Each letter in pattern maps to exactly one unique word in s.\n",
    "Each unique word in s maps to exactly one letter in pattern.\n",
    "No two letters map to the same word, and no two words map to the same letter.\n",
    " \n",
    "\n",
    "Example 1:\n",
    "\n",
    "Input: pattern = \"abba\", s = \"dog cat cat dog\"\n",
    "\n",
    "Output: true\n",
    "\n",
    "Explanation:\n",
    "\n",
    "The bijection can be established as:\n",
    "\n",
    "'a' maps to \"dog\".\n",
    "'b' maps to \"cat\".\n",
    "Example 2:\n",
    "\n",
    "Input: pattern = \"abba\", s = \"dog cat cat fish\"\n",
    "\n",
    "Output: false\n",
    "\n",
    "Example 3:\n",
    "\n",
    "Input: pattern = \"aaaa\", s = \"dog cat cat dog\"\n",
    "\n",
    "Output: false\n",
    "\n",
    " \n",
    "\n",
    "Constraints:\n",
    "\n",
    "1 <= pattern.length <= 300\n",
    "pattern contains only lower-case English letters.\n",
    "1 <= s.length <= 3000\n",
    "s contains only lowercase English letters and spaces ' '.\n",
    "s does not contain any leading or trailing spaces.\n",
    "All the words in s are separated by a single space."
   ]
  },
  {
   "cell_type": "code",
   "execution_count": null,
   "metadata": {},
   "outputs": [],
   "source": [
    "class Solution:\n",
    "    def wordPattern(self, pattern: str, s: str) -> bool:\n",
    "        words = s.split()\n",
    "        if len(pattern) != len(words):\n",
    "            return False\n",
    "        char_to_word = {}\n",
    "        word_to_char = {}\n",
    "\n",
    "        for c,w in zip(pattern, words):\n",
    "            if c in char_to_word and char_to_word[c]!=w:\n",
    "                return False\n",
    "            if w in word_to_char and word_to_char[w]!=c:\n",
    "                return False\n",
    "            char_to_word[c]=w\n",
    "            word_to_char[w]=c\n",
    "        return True\n"
   ]
  }
 ],
 "metadata": {
  "language_info": {
   "name": "python"
  }
 },
 "nbformat": 4,
 "nbformat_minor": 2
}
