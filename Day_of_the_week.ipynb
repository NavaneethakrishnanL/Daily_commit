{
 "cells": [
  {
   "cell_type": "markdown",
   "metadata": {},
   "source": [
    "Given a date, return the corresponding day of the week for that date.\n",
    "\n",
    "The input is given as three integers representing the day, month and year respectively.\n",
    "\n",
    "Return the answer as one of the following values {\"Sunday\", \"Monday\", \"Tuesday\", \"Wednesday\", \"Thursday\", \"Friday\", \"Saturday\"}.\n",
    "\n",
    " \n",
    "\n",
    "Example 1:\n",
    "\n",
    "Input: day = 31, month = 8, year = 2019\n",
    "Output: \"Saturday\"\n",
    "Example 2:\n",
    "\n",
    "Input: day = 18, month = 7, year = 1999\n",
    "Output: \"Sunday\"\n",
    "Example 3:\n",
    "\n",
    "Input: day = 15, month = 8, year = 1993\n",
    "Output: \"Sunday\"\n",
    " \n",
    "\n",
    "Constraints:\n",
    "\n",
    "The given dates are valid dates between the years 1971 and 2100."
   ]
  },
  {
   "cell_type": "code",
   "execution_count": null,
   "metadata": {},
   "outputs": [],
   "source": [
    "import datetime\n",
    "\n",
    "class Solution:\n",
    "    def dayOfTheWeek(self, day: int, month: int, year: int) -> str:\n",
    "        date = datetime.date(year, month, day)\n",
    "        return date.strftime(\"%A\")\n"
   ]
  }
 ],
 "metadata": {
  "language_info": {
   "name": "python"
  }
 },
 "nbformat": 4,
 "nbformat_minor": 2
}
