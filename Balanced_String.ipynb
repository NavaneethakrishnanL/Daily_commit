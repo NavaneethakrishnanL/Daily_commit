{
 "cells": [
  {
   "cell_type": "markdown",
   "metadata": {},
   "source": [
    "Balanced strings are those that have an equal quantity of 'L' and 'R' characters.\n",
    "\n",
    "Given a balanced string s, split it into some number of substrings such that:\n",
    "\n",
    "Each substring is balanced.\n",
    "Return the maximum number of balanced strings you can obtain.\n",
    "\n",
    " \n",
    "\n",
    "Example 1:\n",
    "\n",
    "Input: s = \"RLRRLLRLRL\"\n",
    "Output: 4\n",
    "Explanation: s can be split into \"RL\", \"RRLL\", \"RL\", \"RL\", each substring contains same number of 'L' and 'R'.\n",
    "Example 2:\n",
    "\n",
    "Input: s = \"RLRRRLLRLL\"\n",
    "Output: 2\n",
    "Explanation: s can be split into \"RL\", \"RRRLLRLL\", each substring contains same number of 'L' and 'R'.\n",
    "Note that s cannot be split into \"RL\", \"RR\", \"RL\", \"LR\", \"LL\", because the 2nd and 5th substrings are not balanced.\n",
    "Example 3:\n",
    "\n",
    "Input: s = \"LLLLRRRR\"\n",
    "Output: 1\n",
    "Explanation: s can be split into \"LLLLRRRR\".\n",
    " \n",
    "\n",
    "Constraints:\n",
    "\n",
    "2 <= s.length <= 1000\n",
    "s[i] is either 'L' or 'R'.\n",
    "s is a balanced string."
   ]
  },
  {
   "cell_type": "code",
   "execution_count": null,
   "metadata": {},
   "outputs": [],
   "source": [
    "class Solution:\n",
    "    def balancedStringSplit(self, s: str) -> int:\n",
    "        left_count = 0\n",
    "        right_count = 0\n",
    "        balanced = 0\n",
    "\n",
    "        for ch in s:\n",
    "            if ch == 'L':\n",
    "                left_count += 1\n",
    "            else:\n",
    "                right_count += 1\n",
    "\n",
    "            if left_count == right_count:\n",
    "                balanced += 1\n",
    "                left_count = 0\n",
    "                right_count = 0\n",
    "\n",
    "        return balanced\n"
   ]
  }
 ],
 "metadata": {
  "language_info": {
   "name": "python"
  }
 },
 "nbformat": 4,
 "nbformat_minor": 2
}
