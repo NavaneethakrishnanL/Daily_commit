{
 "cells": [
  {
   "cell_type": "markdown",
   "metadata": {},
   "source": [
    "Write a function to find the longest common prefix string amongst an array of strings.\n",
    "\n",
    "If there is no common prefix, return an empty string \"\".\n",
    "\n",
    " \n",
    "\n",
    "Example 1:\n",
    "\n",
    "Input: strs = [\"flower\",\"flow\",\"flight\"]\n",
    "Output: \"fl\"\n",
    "Example 2:\n",
    "\n",
    "Input: strs = [\"dog\",\"racecar\",\"car\"]\n",
    "Output: \"\"\n",
    "Explanation: There is no common prefix among the input strings.\n",
    " \n",
    "\n",
    "Constraints:\n",
    "\n",
    "1 <= strs.length <= 200\n",
    "0 <= strs[i].length <= 200\n",
    "strs[i] consists of only lowercase English letters if it is non-empty."
   ]
  },
  {
   "cell_type": "code",
   "execution_count": null,
   "metadata": {},
   "outputs": [],
   "source": [
    "class Solution:\n",
    "    def longestCommonPrefix(self, strs: List[str]) -> str:\n",
    "    # Check if the input list is empty\n",
    "        if not strs:\n",
    "            return \"\"\n",
    "\n",
    "        # Start by assuming the first string is the common prefix\n",
    "        prefix = strs[0]\n",
    "\n",
    "        # Iterate through the list of strings\n",
    "        for string in strs[1:]:\n",
    "            # Compare the current prefix with the current string\n",
    "            while not string.startswith(prefix):  # Correct method name is startswith\n",
    "                # Shorten the prefix by removing the last character\n",
    "                prefix = prefix[:-1]\n",
    "\n",
    "                # If the prefix becomes empty, return an empty string\n",
    "                if not prefix:\n",
    "                    return \"\"\n",
    "\n",
    "        # Return the longest common prefix\n",
    "        return prefix\n"
   ]
  }
 ],
 "metadata": {
  "language_info": {
   "name": "python"
  }
 },
 "nbformat": 4,
 "nbformat_minor": 2
}
