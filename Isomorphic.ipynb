{
 "cells": [
  {
   "cell_type": "markdown",
   "metadata": {},
   "source": [
    "Given two strings s and t, determine if they are isomorphic.\n",
    "\n",
    "Two strings s and t are isomorphic if the characters in s can be replaced to get t.\n",
    "\n",
    "All occurrences of a character must be replaced with another character while preserving the order of characters. No two characters may map to the same character, but a character may map to itself.\n",
    "\n",
    " \n",
    "\n",
    "Example 1:\n",
    "\n",
    "Input: s = \"egg\", t = \"add\"\n",
    "\n",
    "Output: true\n",
    "\n",
    "Explanation:\n",
    "\n",
    "The strings s and t can be made identical by:\n",
    "\n",
    "Mapping 'e' to 'a'.\n",
    "Mapping 'g' to 'd'.\n",
    "Example 2:\n",
    "\n",
    "Input: s = \"foo\", t = \"bar\"\n",
    "\n",
    "Output: false\n",
    "\n",
    "Explanation:\n",
    "\n",
    "The strings s and t can not be made identical as 'o' needs to be mapped to both 'a' and 'r'.\n",
    "\n",
    "Example 3:\n",
    "\n",
    "Input: s = \"paper\", t = \"title\"\n",
    "\n",
    "Output: true\n",
    "\n",
    " \n",
    "\n",
    "Constraints:\n",
    "\n",
    "1 <= s.length <= 5 * 104\n",
    "t.length == s.length\n",
    "s and t consist of any valid ascii character."
   ]
  },
  {
   "cell_type": "code",
   "execution_count": null,
   "metadata": {},
   "outputs": [],
   "source": [
    "class Solution:\n",
    "    def isIsomorphic(self, s: str, t: str) -> bool:\n",
    "        if len(s) != len(t):\n",
    "            return False\n",
    "\n",
    "        s_to_t = {}\n",
    "        t_to_s = {}\n",
    "\n",
    "        for cs, ct in zip(s, t):\n",
    "            if cs in s_to_t and s_to_t[cs] != ct:\n",
    "                return False\n",
    "            if ct in t_to_s and t_to_s[ct] != cs:\n",
    "                return False\n",
    "\n",
    "            s_to_t[cs] = ct\n",
    "            t_to_s[ct] = cs\n",
    "\n",
    "        return True\n"
   ]
  }
 ],
 "metadata": {
  "language_info": {
   "name": "python"
  }
 },
 "nbformat": 4,
 "nbformat_minor": 2
}
