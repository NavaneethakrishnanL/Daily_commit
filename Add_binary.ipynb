{
 "cells": [
  {
   "cell_type": "markdown",
   "metadata": {},
   "source": [
    "Given two binary strings a and b, return their sum as a binary string.\n",
    "\n",
    " \n",
    "\n",
    "Example 1:\n",
    "\n",
    "Input: a = \"11\", b = \"1\"\n",
    "Output: \"100\"\n",
    "Example 2:\n",
    "\n",
    "Input: a = \"1010\", b = \"1011\"\n",
    "Output: \"10101\"\n",
    " \n",
    "\n",
    "Constraints:\n",
    "\n",
    "1 <= a.length, b.length <= 104\n",
    "a and b consist only of '0' or '1' characters.\n",
    "Each string does not contain leading zeros except for the zero itself."
   ]
  },
  {
   "cell_type": "code",
   "execution_count": null,
   "metadata": {},
   "outputs": [],
   "source": [
    "class Solution:\n",
    "    def addBinary(self, a: str, b: str) -> str:\n",
    "        i, j = len(a) - 1, len(b) - 1  # Start from the last digit\n",
    "        carry = 0\n",
    "        result = []\n",
    "\n",
    "        while i >= 0 or j >= 0 or carry:\n",
    "            digit_a = int(a[i]) if i >= 0 else 0\n",
    "            digit_b = int(b[j]) if j >= 0 else 0\n",
    "\n",
    "            total = digit_a + digit_b + carry\n",
    "            result.append(str(total % 2))  # Add binary digit to result\n",
    "            carry = total // 2  # Compute carry for next step\n",
    "\n",
    "            i -= 1\n",
    "            j -= 1\n",
    "\n",
    "        return ''.join(result[::-1])  # Reverse and return the result\n"
   ]
  }
 ],
 "metadata": {
  "language_info": {
   "name": "python"
  }
 },
 "nbformat": 4,
 "nbformat_minor": 2
}
