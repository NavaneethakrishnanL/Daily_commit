{
 "cells": [
  {
   "cell_type": "markdown",
   "metadata": {},
   "source": [
    "Given a string columnTitle that represents the column title as appears in an Excel sheet, return its corresponding column number.\n",
    "\n",
    "For example:\n",
    "\n",
    "A -> 1\n",
    "B -> 2\n",
    "C -> 3\n",
    "...\n",
    "Z -> 26\n",
    "AA -> 27\n",
    "AB -> 28 \n",
    "...\n",
    " \n",
    "\n",
    "Example 1:\n",
    "\n",
    "Input: columnTitle = \"A\"\n",
    "Output: 1\n",
    "Example 2:\n",
    "\n",
    "Input: columnTitle = \"AB\"\n",
    "Output: 28\n",
    "Example 3:\n",
    "\n",
    "Input: columnTitle = \"ZY\"\n",
    "Output: 701\n",
    " \n",
    "\n",
    "Constraints:\n",
    "\n",
    "1 <= columnTitle.length <= 7\n",
    "columnTitle consists only of uppercase English letters.\n",
    "columnTitle is in the range [\"A\", \"FXSHRXW\"]."
   ]
  },
  {
   "cell_type": "code",
   "execution_count": null,
   "metadata": {},
   "outputs": [],
   "source": [
    "class Solution:\n",
    "    def titleToNumber(self, columnTitle: str) -> int:\n",
    "        result = 0\n",
    "        for char in columnTitle:\n",
    "            result = result * 26 + (ord(char) - ord('A') + 1)\n",
    "        return result\n",
    "\n",
    "# Example test cases\n",
    "solution = Solution()\n",
    "print(solution.titleToNumber(\"A\"))   # Output: 1\n",
    "print(solution.titleToNumber(\"AB\"))  # Output: 28\n",
    "print(solution.titleToNumber(\"ZY\"))  # Output: 701\n"
   ]
  }
 ],
 "metadata": {
  "language_info": {
   "name": "python"
  }
 },
 "nbformat": 4,
 "nbformat_minor": 2
}
