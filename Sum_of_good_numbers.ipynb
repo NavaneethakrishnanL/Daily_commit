{
 "cells": [
  {
   "cell_type": "markdown",
   "metadata": {},
   "source": [
    "\n",
    "Given an array of integers nums and an integer k, an element nums[i] is considered good if it is strictly greater than the elements at indices i - k and i + k (if those indices exist). If neither of these indices exists, nums[i] is still considered good.\n",
    "\n",
    "Return the sum of all the good elements in the array.\n",
    "\n",
    " \n",
    "\n",
    "Example 1:\n",
    "\n",
    "Input: nums = [1,3,2,1,5,4], k = 2\n",
    "\n",
    "Output: 12\n",
    "\n",
    "Explanation:\n",
    "\n",
    "The good numbers are nums[1] = 3, nums[4] = 5, and nums[5] = 4 because they are strictly greater than the numbers at indices i - k and i + k.\n",
    "\n",
    "Example 2:\n",
    "\n",
    "Input: nums = [2,1], k = 1\n",
    "\n",
    "Output: 2\n",
    "\n",
    "Explanation:\n",
    "\n",
    "The only good number is nums[0] = 2 because it is strictly greater than nums[1].\n",
    "\n",
    " \n",
    "\n",
    "Constraints:\n",
    "\n",
    "2 <= nums.length <= 100\n",
    "1 <= nums[i] <= 1000\n",
    "1 <= k <= floor(nums.length / 2)"
   ]
  },
  {
   "cell_type": "code",
   "execution_count": null,
   "metadata": {},
   "outputs": [],
   "source": [
    "from typing import List\n",
    "\n",
    "class Solution:\n",
    "    def sumOfGoodNumbers(self, nums: List[int], k: int) -> int:\n",
    "        n = len(nums)\n",
    "        total = 0\n",
    "\n",
    "        for i in range(n):\n",
    "            left_idx = i - k\n",
    "            right_idx = i + k\n",
    "\n",
    "            left_valid = left_idx >= 0\n",
    "            right_valid = right_idx < n\n",
    "\n",
    "            if (not left_valid or nums[i] > nums[left_idx]) and (not right_valid or nums[i] > nums[right_idx]):\n",
    "                total += nums[i]\n",
    "\n",
    "        return total\n",
    "\n",
    "# Example usage\n",
    "solution = Solution()\n",
    "print(solution.sumOfGoodNumbers([1, 3, 2, 1, 5, 4], 2))  # Output: 12\n",
    "print(solution.sumOfGoodNumbers([2, 1], 1))  # Output: 2\n"
   ]
  }
 ],
 "metadata": {
  "language_info": {
   "name": "python"
  }
 },
 "nbformat": 4,
 "nbformat_minor": 2
}
