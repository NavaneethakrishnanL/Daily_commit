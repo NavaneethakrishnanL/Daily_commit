{
 "cells": [
  {
   "cell_type": "markdown",
   "metadata": {},
   "source": [
    "In a string s of lowercase letters, these letters form consecutive groups of the same character.\n",
    "\n",
    "For example, a string like s = \"abbxxxxzyy\" has the groups \"a\", \"bb\", \"xxxx\", \"z\", and \"yy\".\n",
    "\n",
    "A group is identified by an interval [start, end], where start and end denote the start and end indices (inclusive) of the group. In the above example, \"xxxx\" has the interval [3,6].\n",
    "\n",
    "A group is considered large if it has 3 or more characters.\n",
    "\n",
    "Return the intervals of every large group sorted in increasing order by start index.\n",
    "\n",
    " \n",
    "\n",
    "Example 1:\n",
    "\n",
    "Input: s = \"abbxxxxzzy\"\n",
    "Output: [[3,6]]\n",
    "Explanation: \"xxxx\" is the only large group with start index 3 and end index 6.\n",
    "Example 2:\n",
    "\n",
    "Input: s = \"abc\"\n",
    "Output: []\n",
    "Explanation: We have groups \"a\", \"b\", and \"c\", none of which are large groups.\n",
    "Example 3:\n",
    "\n",
    "Input: s = \"abcdddeeeeaabbbcd\"\n",
    "Output: [[3,5],[6,9],[12,14]]\n",
    "Explanation: The large groups are \"ddd\", \"eeee\", and \"bbb\".\n",
    " \n",
    "\n",
    "Constraints:\n",
    "\n",
    "1 <= s.length <= 1000\n",
    "s contains lowercase English letters only."
   ]
  },
  {
   "cell_type": "code",
   "execution_count": null,
   "metadata": {},
   "outputs": [],
   "source": [
    "from typing import List\n",
    "\n",
    "class Solution:\n",
    "    def largeGroupPositions(self, s: str) -> List[List[int]]:\n",
    "        result = []\n",
    "        n = len(s)\n",
    "        start = 0\n",
    "\n",
    "        for i in range(1, n + 1):\n",
    "            if i == n or s[i] != s[start]:\n",
    "                if i - start >= 3:\n",
    "                    result.append([start, i - 1])\n",
    "                start = i\n",
    "\n",
    "        return result\n",
    "\n",
    "# Example usage:\n",
    "sol = Solution()\n",
    "print(sol.largeGroupPositions(\"abbxxxxzzy\"))        # Output: [[3, 6]]\n",
    "print(sol.largeGroupPositions(\"abc\"))               # Output: []\n",
    "print(sol.largeGroupPositions(\"abcdddeeeeaabbbcd\")) # Output: [[3,5],[6,9],[12,14]]\n"
   ]
  }
 ],
 "metadata": {
  "language_info": {
   "name": "python"
  }
 },
 "nbformat": 4,
 "nbformat_minor": 2
}
