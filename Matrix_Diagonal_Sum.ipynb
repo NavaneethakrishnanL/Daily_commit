{
 "cells": [
  {
   "cell_type": "markdown",
   "metadata": {},
   "source": [
    "Given a square matrix mat, return the sum of the matrix diagonals.\n",
    "\n",
    "Only include the sum of all the elements on the primary diagonal and all the elements on the secondary diagonal that are not part of the primary diagonal.\n",
    "\n",
    " \n",
    "\n",
    "Example 1:\n",
    "\n",
    "\n",
    "Input: mat = [[1,2,3],\n",
    "              [4,5,6],\n",
    "              [7,8,9]]\n",
    "Output: 25\n",
    "Explanation: Diagonals sum: 1 + 5 + 9 + 3 + 7 = 25\n",
    "Notice that element mat[1][1] = 5 is counted only once.\n",
    "Example 2:\n",
    "\n",
    "Input: mat = [[1,1,1,1],\n",
    "              [1,1,1,1],\n",
    "              [1,1,1,1],\n",
    "              [1,1,1,1]]\n",
    "Output: 8\n",
    "Example 3:\n",
    "\n",
    "Input: mat = [[5]]\n",
    "Output: 5\n",
    " \n",
    "\n",
    "Constraints:\n",
    "\n",
    "n == mat.length == mat[i].length\n",
    "1 <= n <= 100\n",
    "1 <= mat[i][j] <= 100"
   ]
  },
  {
   "cell_type": "code",
   "execution_count": null,
   "metadata": {},
   "outputs": [],
   "source": [
    "class Solution:\n",
    "    def diagonalSum(self, mat: List[List[int]]) -> int:\n",
    "        n=len(mat)\n",
    "        total =0 \n",
    "        for i in range(n):\n",
    "            total+=mat[i][i]\n",
    "            total+=mat[i][n-1-i]\n",
    "\n",
    "        if n%2==1:\n",
    "            total -= mat[n//2][n//2]\n",
    "        return total"
   ]
  }
 ],
 "metadata": {
  "language_info": {
   "name": "python"
  }
 },
 "nbformat": 4,
 "nbformat_minor": 2
}
