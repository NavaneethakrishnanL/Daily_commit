{
 "cells": [
  {
   "cell_type": "markdown",
   "metadata": {},
   "source": [
    "Given a text file file.txt, print just the 10th line of the file.\n",
    "\n",
    "Example:\n",
    "\n",
    "Assume that file.txt has the following content:\n",
    "\n",
    "Line 1\n",
    "Line 2\n",
    "Line 3\n",
    "Line 4\n",
    "Line 5\n",
    "Line 6\n",
    "Line 7\n",
    "Line 8\n",
    "Line 9\n",
    "Line 10\n",
    "Your script should output the tenth line, which is:\n",
    "\n",
    "Line 10\n",
    "Note:\n",
    "1. If the file contains less than 10 lines, what should you output?\n",
    "2. There's at least three different solutions. Try to explore all possibilities."
   ]
  },
  {
   "cell_type": "code",
   "execution_count": null,
   "metadata": {},
   "outputs": [],
   "source": [
    "count=0\n",
    "while IFS= read -r line; do\n",
    "    count=$((count + 1))\n",
    "    if [ \"$count\" -eq 10 ]; then\n",
    "        echo \"$line\"\n",
    "        exit 0\n",
    "    fi\n",
    "done < file.txt\n"
   ]
  }
 ],
 "metadata": {
  "language_info": {
   "name": "python"
  }
 },
 "nbformat": 4,
 "nbformat_minor": 2
}
