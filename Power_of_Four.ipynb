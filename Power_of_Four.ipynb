{
 "cells": [
  {
   "cell_type": "markdown",
   "metadata": {},
   "source": [
    "Given an integer n, return true if it is a power of four. Otherwise, return false.\n",
    "\n",
    "An integer n is a power of four, if there exists an integer x such that n == 4x.\n",
    "\n",
    " \n",
    "\n",
    "Example 1:\n",
    "\n",
    "Input: n = 16\n",
    "Output: true\n",
    "Example 2:\n",
    "\n",
    "Input: n = 5\n",
    "Output: false\n",
    "Example 3:\n",
    "\n",
    "Input: n = 1\n",
    "Output: true\n",
    " \n",
    "\n",
    "Constraints:\n",
    "\n",
    "-231 <= n <= 231 - 1\n",
    " \n",
    "\n",
    "Follow up: Could you solve it without loops/recursion?"
   ]
  },
  {
   "cell_type": "code",
   "execution_count": null,
   "metadata": {},
   "outputs": [],
   "source": [
    "class Solution:\n",
    "    def isPowerOfFour(self, n: int) -> bool:\n",
    "        return n > 0 and (n & (n - 1)) == 0 and (n - 1) % 3 == 0"
   ]
  }
 ],
 "metadata": {
  "language_info": {
   "name": "python"
  }
 },
 "nbformat": 4,
 "nbformat_minor": 2
}
