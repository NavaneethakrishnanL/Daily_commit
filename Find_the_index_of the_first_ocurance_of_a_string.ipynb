{
 "cells": [
  {
   "cell_type": "markdown",
   "metadata": {},
   "source": [
    "Given two strings needle and haystack, return the index of the first occurrence of needle in haystack, or -1 if needle is not part of haystack.\n",
    "\n",
    " \n",
    "\n",
    "Example 1:\n",
    "\n",
    "Input: haystack = \"sadbutsad\", needle = \"sad\"\n",
    "Output: 0\n",
    "Explanation: \"sad\" occurs at index 0 and 6.\n",
    "The first occurrence is at index 0, so we return 0.\n",
    "Example 2:\n",
    "\n",
    "Input: haystack = \"leetcode\", needle = \"leeto\"\n",
    "Output: -1\n",
    "Explanation: \"leeto\" did not occur in \"leetcode\", so we return -1.\n",
    " \n",
    "\n",
    "Constraints:\n",
    "\n",
    "1 <= haystack.length, needle.length <= 104\n",
    "haystack and needle consist of only lowercase English characters."
   ]
  },
  {
   "cell_type": "code",
   "execution_count": null,
   "metadata": {},
   "outputs": [],
   "source": [
    "class Solution:\n",
    "    def strStr(self, haystack: str, needle: str) -> int:\n",
    "        n, m = len(haystack), len(needle)\n",
    "\n",
    "        if m > n:\n",
    "            return -1  # Needle can't be longer than haystack\n",
    "\n",
    "        for i in range(n - m + 1):  # Iterate over possible start positions\n",
    "            if haystack[i:i + m] == needle:  # Check substring match\n",
    "                return i  # Return first occurrence\n",
    "\n",
    "        return -1  # Not found"
   ]
  }
 ],
 "metadata": {
  "language_info": {
   "name": "python"
  }
 },
 "nbformat": 4,
 "nbformat_minor": 2
}
