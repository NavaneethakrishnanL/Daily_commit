{
 "cells": [
  {
   "cell_type": "markdown",
   "metadata": {},
   "source": [
    "Table: products\n",
    "\n",
    "+--------------+------------+\n",
    "| Column Name  | Type       |\n",
    "+--------------+------------+\n",
    "| product_id   | int        |\n",
    "| product_name | varchar    |\n",
    "| description  | varchar    |\n",
    "+--------------+------------+\n",
    "(product_id) is the unique key for this table.\n",
    "Each row in the table represents a product with its unique ID, name, and description.\n",
    "Write a solution to find all products whose description contains a valid serial number pattern. A valid serial number follows these rules:\n",
    "\n",
    "It starts with the letters SN (case-sensitive).\n",
    "Followed by exactly 4 digits.\n",
    "It must have a hyphen (-) followed by exactly 4 digits.\n",
    "The serial number must be within the description (it may not necessarily start at the beginning).\n",
    "Return the result table ordered by product_id in ascending order.\n",
    "\n",
    "The result format is in the following example.\n",
    "\n",
    " \n",
    "\n",
    "Example:\n",
    "\n",
    "Input:\n",
    "\n",
    "products table:\n",
    "\n",
    "+------------+--------------+------------------------------------------------------+\n",
    "| product_id | product_name | description                                          |\n",
    "+------------+--------------+------------------------------------------------------+\n",
    "| 1          | Widget A     | This is a sample product with SN1234-5678            |\n",
    "| 2          | Widget B     | A product with serial SN9876-1234 in the description |\n",
    "| 3          | Widget C     | Product SN1234-56789 is available now                |\n",
    "| 4          | Widget D     | No serial number here                                |\n",
    "| 5          | Widget E     | Check out SN4321-8765 in this description            |\n",
    "+------------+--------------+------------------------------------------------------+\n",
    "    \n",
    "Output:\n",
    "\n",
    "+------------+--------------+------------------------------------------------------+\n",
    "| product_id | product_name | description                                          |\n",
    "+------------+--------------+------------------------------------------------------+\n",
    "| 1          | Widget A     | This is a sample product with SN1234-5678            |\n",
    "| 2          | Widget B     | A product with serial SN9876-1234 in the description |\n",
    "| 5          | Widget E     | Check out SN4321-8765 in this description            |\n",
    "+------------+--------------+------------------------------------------------------+\n",
    "    \n",
    "Explanation:\n",
    "\n",
    "Product 1: Valid serial number SN1234-5678\n",
    "Product 2: Valid serial number SN9876-1234\n",
    "Product 3: Invalid serial number SN1234-56789 (contains 5 digits after the hyphen)\n",
    "Product 4: No serial number in the description\n",
    "Product 5: Valid serial number SN4321-8765\n",
    "The result table is ordered by product_id in ascending order."
   ]
  },
  {
   "cell_type": "code",
   "execution_count": null,
   "metadata": {},
   "outputs": [],
   "source": [
    "SELECT product_id, product_name, description\n",
    "FROM products\n",
    "WHERE description REGEXP '(^|[^A-Za-z0-9])SN[0-9]{4}-[0-9]{4}([^A-Za-z0-9]|$)'\n",
    "ORDER BY product_id;\n"
   ]
  }
 ],
 "metadata": {
  "language_info": {
   "name": "python"
  }
 },
 "nbformat": 4,
 "nbformat_minor": 2
}
